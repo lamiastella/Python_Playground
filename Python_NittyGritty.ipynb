{
 "cells": [
  {
   "cell_type": "code",
   "execution_count": 1,
   "metadata": {},
   "outputs": [
    {
     "data": {
      "text/plain": [
       "0"
      ]
     },
     "execution_count": 1,
     "metadata": {},
     "output_type": "execute_result"
    }
   ],
   "source": [
    "# ternary operation\n",
    "condition = False\n",
    "x = 1 if condition else 0\n",
    "x"
   ]
  },
  {
   "cell_type": "code",
   "execution_count": 5,
   "metadata": {},
   "outputs": [
    {
     "name": "stdout",
     "output_type": "stream",
     "text": [
      " 1,000,100,000\n"
     ]
    }
   ],
   "source": [
    "# big number additions (readable)\n",
    "# using underscore to make big numbers more readable\n",
    "num1 = 1_000_000_000\n",
    "num2 = 100_000\n",
    "sum = num1 + num2\n",
    "# use string formating to separate every three digits w comma\n",
    "print(f'{sum: ,}')"
   ]
  },
  {
   "cell_type": "code",
   "execution_count": 16,
   "metadata": {},
   "outputs": [
    {
     "name": "stdout",
     "output_type": "stream",
     "text": [
      "299\n"
     ]
    }
   ],
   "source": [
    "# use context manager for autoclosing of file\n",
    "with open('Anne.txt', 'r') as f:\n",
    "    line_count = 0\n",
    "    for line in f:\n",
    "        line_count += 1\n",
    "    print(line_count)"
   ]
  },
  {
   "cell_type": "code",
   "execution_count": 17,
   "metadata": {},
   "outputs": [
    {
     "name": "stdout",
     "output_type": "stream",
     "text": [
      "3234\n",
      "1170\n"
     ]
    }
   ],
   "source": [
    "with open('Anne.txt', 'r') as f:\n",
    "    # counting number of words\n",
    "    words = []\n",
    "    for line in f:\n",
    "        line_split = line.split(\" \")\n",
    "        for item in line_split:\n",
    "            words.append(item.strip())\n",
    "    print(len(words))\n",
    "    print(len(set(words)))\n"
   ]
  },
  {
   "cell_type": "code",
   "execution_count": 18,
   "metadata": {},
   "outputs": [
    {
     "name": "stdout",
     "output_type": "stream",
     "text": [
      "Mona\n",
      "Mina\n",
      "Lisa\n",
      "Kiana\n",
      "Linda\n"
     ]
    }
   ],
   "source": [
    "# enumerators\n",
    "names = ['Mona', 'Mina', 'Lisa', 'Kiana', 'Linda']\n",
    "for name in names:\n",
    "    print(name)"
   ]
  },
  {
   "cell_type": "code",
   "execution_count": 19,
   "metadata": {},
   "outputs": [
    {
     "data": {
      "text/plain": [
       "<enumerate at 0x103ce21b0>"
      ]
     },
     "execution_count": 19,
     "metadata": {},
     "output_type": "execute_result"
    }
   ],
   "source": [
    "enumerate(names)"
   ]
  },
  {
   "cell_type": "code",
   "execution_count": 20,
   "metadata": {},
   "outputs": [
    {
     "name": "stdout",
     "output_type": "stream",
     "text": [
      "(0, 'Mona')\n",
      "(1, 'Mina')\n",
      "(2, 'Lisa')\n",
      "(3, 'Kiana')\n",
      "(4, 'Linda')\n"
     ]
    }
   ],
   "source": [
    "# unpacking\n",
    "for item in enumerate(names):\n",
    "    print(item)"
   ]
  },
  {
   "cell_type": "code",
   "execution_count": 21,
   "metadata": {},
   "outputs": [
    {
     "name": "stdout",
     "output_type": "stream",
     "text": [
      "index is 0 and name is Mona\n",
      "index is 1 and name is Mina\n",
      "index is 2 and name is Lisa\n",
      "index is 3 and name is Kiana\n",
      "index is 4 and name is Linda\n"
     ]
    }
   ],
   "source": [
    "for index, name in enumerate(names):\n",
    "    print('index is {} and name is {}'.format(index, name))"
   ]
  },
  {
   "cell_type": "code",
   "execution_count": 25,
   "metadata": {},
   "outputs": [
    {
     "name": "stdout",
     "output_type": "stream",
     "text": [
      "1 Mona\n",
      "2 Mina\n",
      "3 Lisa\n",
      "4 Kiana\n",
      "5 Linda\n"
     ]
    }
   ],
   "source": [
    "for index, name in enumerate(names, start=1):\n",
    "    print(index, name)"
   ]
  },
  {
   "cell_type": "code",
   "execution_count": 27,
   "metadata": {},
   "outputs": [
    {
     "name": "stdout",
     "output_type": "stream",
     "text": [
      "1 one un\n",
      "2 two deux\n",
      "3 three trois\n",
      "4 four quatre\n",
      "5 five cinq\n",
      "6 six six\n"
     ]
    }
   ],
   "source": [
    "numerics = [1, 2, 3, 4, 5, 6]\n",
    "letters = ['one', 'two', 'three', 'four', 'five', 'six']\n",
    "French_letters = ['un', 'deux', 'trois', 'quatre', 'cinq', 'six']\n",
    "\n",
    "# unpacking\n",
    "for number, letter, French_letter in zip(numerics, letters, French_letters):\n",
    "    print(number, letter, French_letter)"
   ]
  },
  {
   "cell_type": "code",
   "execution_count": 29,
   "metadata": {},
   "outputs": [
    {
     "name": "stdout",
     "output_type": "stream",
     "text": [
      "(1, 'one', 'un')\n",
      "(2, 'two', 'deux')\n",
      "(3, 'three', 'trois')\n",
      "(4, 'four', 'quatre')\n",
      "(5, 'five', 'cinq')\n",
      "(6, 'six', 'six')\n"
     ]
    }
   ],
   "source": [
    "# unpacking into tuple format\n",
    "for value in zip(numerics, letters, French_letters):\n",
    "    print(value)"
   ]
  },
  {
   "cell_type": "code",
   "execution_count": 31,
   "metadata": {},
   "outputs": [
    {
     "data": {
      "text/plain": [
       "('a', 'b')"
      ]
     },
     "execution_count": 31,
     "metadata": {},
     "output_type": "execute_result"
    }
   ],
   "source": [
    "# tuples and unpacking\n",
    "items = ('a', 'b')\n",
    "items"
   ]
  },
  {
   "cell_type": "code",
   "execution_count": 34,
   "metadata": {},
   "outputs": [
    {
     "name": "stdout",
     "output_type": "stream",
     "text": [
      "1\n",
      "2\n"
     ]
    }
   ],
   "source": [
    "c, d = (1, 2)\n",
    "print(c)\n",
    "print(d)"
   ]
  },
  {
   "cell_type": "code",
   "execution_count": 35,
   "metadata": {},
   "outputs": [
    {
     "name": "stdout",
     "output_type": "stream",
     "text": [
      "1\n"
     ]
    }
   ],
   "source": [
    "# ignore the variable d to get ride of warnings/errors from linting\n",
    "c, _ = (1, 2)\n",
    "print(c)"
   ]
  },
  {
   "cell_type": "code",
   "execution_count": 36,
   "metadata": {},
   "outputs": [
    {
     "ename": "ValueError",
     "evalue": "too many values to unpack (expected 3)",
     "output_type": "error",
     "traceback": [
      "\u001b[0;31m---------------------------------------------------------------------------\u001b[0m",
      "\u001b[0;31mValueError\u001b[0m                                Traceback (most recent call last)",
      "\u001b[0;32m<ipython-input-36-6816e7438a3e>\u001b[0m in \u001b[0;36m<module>\u001b[0;34m()\u001b[0m\n\u001b[1;32m      1\u001b[0m \u001b[0;31m# the famous too many values to unpack error\u001b[0m\u001b[0;34m\u001b[0m\u001b[0;34m\u001b[0m\u001b[0m\n\u001b[0;32m----> 2\u001b[0;31m \u001b[0ma\u001b[0m\u001b[0;34m,\u001b[0m \u001b[0mb\u001b[0m\u001b[0;34m,\u001b[0m \u001b[0mc\u001b[0m \u001b[0;34m=\u001b[0m \u001b[0;34m(\u001b[0m\u001b[0;36m1\u001b[0m\u001b[0;34m,\u001b[0m \u001b[0;36m2\u001b[0m\u001b[0;34m,\u001b[0m \u001b[0;36m3\u001b[0m\u001b[0;34m,\u001b[0m \u001b[0;36m4\u001b[0m\u001b[0;34m,\u001b[0m \u001b[0;36m5\u001b[0m\u001b[0;34m,\u001b[0m \u001b[0;36m6\u001b[0m\u001b[0;34m)\u001b[0m\u001b[0;34m\u001b[0m\u001b[0m\n\u001b[0m",
      "\u001b[0;31mValueError\u001b[0m: too many values to unpack (expected 3)"
     ]
    }
   ],
   "source": [
    "# the famous too many values to unpack error\n",
    "a, b, c = (1, 2, 3, 4, 5, 6)"
   ]
  },
  {
   "cell_type": "code",
   "execution_count": 37,
   "metadata": {},
   "outputs": [
    {
     "name": "stdout",
     "output_type": "stream",
     "text": [
      "1\n",
      "2\n",
      "[3, 4, 5, 6, 7]\n"
     ]
    }
   ],
   "source": [
    "# set a and b to the first two values and c to the rest of items\n",
    "a, b , *c = (1, 2, 3, 4, 5, 6, 7)\n",
    "print(a)\n",
    "print(b)\n",
    "print(c)"
   ]
  },
  {
   "cell_type": "code",
   "execution_count": 40,
   "metadata": {},
   "outputs": [
    {
     "name": "stdout",
     "output_type": "stream",
     "text": [
      "1\n",
      "2\n"
     ]
    }
   ],
   "source": [
    "# set a and b to the first two values and ignore the rest\n",
    "a, b , *_ = (1, 2, 3, 4, 5, 6, 7)\n",
    "print(a)\n",
    "print(b)"
   ]
  },
  {
   "cell_type": "code",
   "execution_count": 41,
   "metadata": {},
   "outputs": [
    {
     "name": "stdout",
     "output_type": "stream",
     "text": [
      "1\n",
      "2\n",
      "[3, 4, 5, 6, 7]\n",
      "8\n"
     ]
    }
   ],
   "source": [
    "a, b , *c, d = (1, 2, 3, 4, 5, 6, 7, 8)\n",
    "print(a)\n",
    "print(b)\n",
    "print(c)\n",
    "print(d)"
   ]
  },
  {
   "cell_type": "code",
   "execution_count": 42,
   "metadata": {
    "scrolled": true
   },
   "outputs": [
    {
     "ename": "SyntaxError",
     "evalue": "two starred expressions in assignment (<ipython-input-42-4bcdcf731781>, line 1)",
     "output_type": "error",
     "traceback": [
      "\u001b[0;36m  File \u001b[0;32m\"<ipython-input-42-4bcdcf731781>\"\u001b[0;36m, line \u001b[0;32m1\u001b[0m\n\u001b[0;31m    a, b , *c, *d, e = (1, 2, 3, 4, 5, 6, 7, 8)\u001b[0m\n\u001b[0m                                               ^\u001b[0m\n\u001b[0;31mSyntaxError\u001b[0m\u001b[0;31m:\u001b[0m two starred expressions in assignment\n"
     ]
    }
   ],
   "source": [
    "a, b , *c, *d, e = (1, 2, 3, 4, 5, 6, 7, 8)\n",
    "print(a)\n",
    "print(b)\n",
    "print(c)\n",
    "print(d)\n",
    "print(e)"
   ]
  },
  {
   "cell_type": "code",
   "execution_count": 44,
   "metadata": {},
   "outputs": [
    {
     "name": "stdout",
     "output_type": "stream",
     "text": [
      "Mona\n"
     ]
    }
   ],
   "source": [
    "#Dynamic attributes\n",
    "class Person():\n",
    "    pass\n",
    "\n",
    "\n",
    "person = Person()\n",
    "person.first = \"Mona\"\n",
    "person.last = \"Jalal\"\n",
    "print(person.first)"
   ]
  },
  {
   "cell_type": "code",
   "execution_count": 45,
   "metadata": {},
   "outputs": [
    {
     "name": "stdout",
     "output_type": "stream",
     "text": [
      "Mina\n"
     ]
    }
   ],
   "source": [
    "#Dynamic attributes\n",
    "class Person():\n",
    "    pass\n",
    "\n",
    "\n",
    "person = Person()\n",
    "setattr(person, 'first', 'Mina')\n",
    "print(person.first)"
   ]
  },
  {
   "cell_type": "code",
   "execution_count": 47,
   "metadata": {},
   "outputs": [
    {
     "name": "stdout",
     "output_type": "stream",
     "text": [
      "first Mona\n",
      "last Jalal\n"
     ]
    },
    {
     "data": {
      "text/plain": [
       "{'first': 'Mona', 'last': 'Jalal'}"
      ]
     },
     "execution_count": 47,
     "metadata": {},
     "output_type": "execute_result"
    }
   ],
   "source": [
    "name = {'first': 'Mona', 'last': 'Jalal'}\n",
    "for key, value in name.items():\n",
    "    print(key, value)\n",
    "name"
   ]
  },
  {
   "cell_type": "code",
   "execution_count": 50,
   "metadata": {},
   "outputs": [
    {
     "name": "stdout",
     "output_type": "stream",
     "text": [
      "Mona\n",
      "Jalal\n"
     ]
    }
   ],
   "source": [
    "class Person():\n",
    "    pass\n",
    "\n",
    "\n",
    "person = Person()\n",
    "for key, value in name.items():\n",
    "    setattr(person, key, value)\n",
    "    \n",
    "for key, value in name.items():\n",
    "    print(getattr(person, key))\n",
    "    "
   ]
  },
  {
   "cell_type": "code",
   "execution_count": 56,
   "metadata": {},
   "outputs": [
    {
     "data": {
      "text/plain": [
       "'Mona Mona is \\na good girl!\\nand you?'"
      ]
     },
     "execution_count": 56,
     "metadata": {},
     "output_type": "execute_result"
    }
   ],
   "source": [
    "txt = \"\"\"Mona Mona is \n",
    "a good girl!\n",
    "and you?\"\"\"\n",
    "txt"
   ]
  },
  {
   "cell_type": "code",
   "execution_count": 57,
   "metadata": {},
   "outputs": [
    {
     "data": {
      "text/plain": [
       "'?uoy dna\\n!lrig doog a\\n si anoM anoM'"
      ]
     },
     "execution_count": 57,
     "metadata": {},
     "output_type": "execute_result"
    }
   ],
   "source": [
    "txt[::-1]"
   ]
  },
  {
   "cell_type": "code",
   "execution_count": 58,
   "metadata": {},
   "outputs": [
    {
     "data": {
      "text/plain": [
       "False"
      ]
     },
     "execution_count": 58,
     "metadata": {},
     "output_type": "execute_result"
    }
   ],
   "source": [
    "txt.isalpha()"
   ]
  },
  {
   "cell_type": "code",
   "execution_count": 59,
   "metadata": {},
   "outputs": [
    {
     "data": {
      "text/plain": [
       "'Mona Mona Is \\nA Good Girl!\\nAnd You?'"
      ]
     },
     "execution_count": 59,
     "metadata": {},
     "output_type": "execute_result"
    }
   ],
   "source": [
    "txt.title()"
   ]
  },
  {
   "cell_type": "code",
   "execution_count": 60,
   "metadata": {},
   "outputs": [
    {
     "data": {
      "text/plain": [
       "2"
      ]
     },
     "execution_count": 60,
     "metadata": {},
     "output_type": "execute_result"
    }
   ],
   "source": [
    "txt.count('Mona')"
   ]
  },
  {
   "cell_type": "code",
   "execution_count": 61,
   "metadata": {},
   "outputs": [
    {
     "data": {
      "text/plain": [
       "0"
      ]
     },
     "execution_count": 61,
     "metadata": {},
     "output_type": "execute_result"
    }
   ],
   "source": [
    "txt.find('Mona')"
   ]
  },
  {
   "cell_type": "code",
   "execution_count": 62,
   "metadata": {},
   "outputs": [
    {
     "data": {
      "text/plain": [
       "'Mina Mina is \\na good girl!\\nand you?'"
      ]
     },
     "execution_count": 62,
     "metadata": {},
     "output_type": "execute_result"
    }
   ],
   "source": [
    "txt.replace('Mona', 'Mina')"
   ]
  },
  {
   "cell_type": "code",
   "execution_count": 63,
   "metadata": {},
   "outputs": [
    {
     "name": "stdout",
     "output_type": "stream",
     "text": [
      "['__add__', '__class__', '__contains__', '__delattr__', '__dir__', '__doc__', '__eq__', '__format__', '__ge__', '__getattribute__', '__getitem__', '__getnewargs__', '__gt__', '__hash__', '__init__', '__init_subclass__', '__iter__', '__le__', '__len__', '__lt__', '__mod__', '__mul__', '__ne__', '__new__', '__reduce__', '__reduce_ex__', '__repr__', '__rmod__', '__rmul__', '__setattr__', '__sizeof__', '__str__', '__subclasshook__', 'capitalize', 'casefold', 'center', 'count', 'encode', 'endswith', 'expandtabs', 'find', 'format', 'format_map', 'index', 'isalnum', 'isalpha', 'isdecimal', 'isdigit', 'isidentifier', 'islower', 'isnumeric', 'isprintable', 'isspace', 'istitle', 'isupper', 'join', 'ljust', 'lower', 'lstrip', 'maketrans', 'partition', 'replace', 'rfind', 'rindex', 'rjust', 'rpartition', 'rsplit', 'rstrip', 'split', 'splitlines', 'startswith', 'strip', 'swapcase', 'title', 'translate', 'upper', 'zfill']\n"
     ]
    }
   ],
   "source": [
    "print(dir(txt))"
   ]
  },
  {
   "cell_type": "code",
   "execution_count": 77,
   "metadata": {},
   "outputs": [
    {
     "data": {
      "text/plain": [
       "[1, 'Mona', 2, 3, 4, 5]"
      ]
     },
     "execution_count": 77,
     "metadata": {},
     "output_type": "execute_result"
    }
   ],
   "source": [
    "# list are mutable\n",
    "numbers = [1, 2, 3, 4, 5]\n",
    "numbers.insert(1, 'Mona')\n",
    "numbers"
   ]
  },
  {
   "cell_type": "code",
   "execution_count": 78,
   "metadata": {},
   "outputs": [
    {
     "data": {
      "text/plain": [
       "[1, 'Mona', 2, 3, 4, 5, 'hi', 7]"
      ]
     },
     "execution_count": 78,
     "metadata": {},
     "output_type": "execute_result"
    }
   ],
   "source": [
    "numbers.extend(['hi', 7])\n",
    "numbers"
   ]
  },
  {
   "cell_type": "code",
   "execution_count": 79,
   "metadata": {},
   "outputs": [
    {
     "data": {
      "text/plain": [
       "[1, 'Mona', 2, 3, 4, 5, 'hi']"
      ]
     },
     "execution_count": 79,
     "metadata": {},
     "output_type": "execute_result"
    }
   ],
   "source": [
    "numbers.remove(7)\n",
    "numbers"
   ]
  },
  {
   "cell_type": "code",
   "execution_count": 80,
   "metadata": {},
   "outputs": [
    {
     "name": "stdout",
     "output_type": "stream",
     "text": [
      "hi\n"
     ]
    }
   ],
   "source": [
    "print(numbers.pop())"
   ]
  },
  {
   "cell_type": "code",
   "execution_count": 98,
   "metadata": {},
   "outputs": [
    {
     "data": {
      "text/plain": [
       "[1, 2, 3, 4, 5, 6]"
      ]
     },
     "execution_count": 98,
     "metadata": {},
     "output_type": "execute_result"
    }
   ],
   "source": [
    "nums = [1, 2, 3, 4, 5, 6]\n",
    "nums.sort(reverse=True)\n",
    "\n",
    "sorted(nums)"
   ]
  },
  {
   "cell_type": "code",
   "execution_count": 104,
   "metadata": {},
   "outputs": [
    {
     "data": {
      "text/plain": [
       "3.5"
      ]
     },
     "execution_count": 104,
     "metadata": {},
     "output_type": "execute_result"
    }
   ],
   "source": [
    "import numpy as np\n",
    "np.mean(nums)"
   ]
  },
  {
   "cell_type": "code",
   "execution_count": 105,
   "metadata": {},
   "outputs": [
    {
     "data": {
      "text/plain": [
       "6"
      ]
     },
     "execution_count": 105,
     "metadata": {},
     "output_type": "execute_result"
    }
   ],
   "source": [
    "max(nums)"
   ]
  },
  {
   "cell_type": "code",
   "execution_count": 107,
   "metadata": {},
   "outputs": [
    {
     "data": {
      "text/plain": [
       "21"
      ]
     },
     "execution_count": 107,
     "metadata": {},
     "output_type": "execute_result"
    }
   ],
   "source": [
    "np.sum(nums)"
   ]
  },
  {
   "cell_type": "code",
   "execution_count": 108,
   "metadata": {},
   "outputs": [
    {
     "name": "stdout",
     "output_type": "stream",
     "text": [
      "False\n"
     ]
    }
   ],
   "source": [
    "print(8 in nums)"
   ]
  },
  {
   "cell_type": "code",
   "execution_count": 109,
   "metadata": {},
   "outputs": [
    {
     "name": "stdout",
     "output_type": "stream",
     "text": [
      "True\n"
     ]
    }
   ],
   "source": [
    "print(1 in nums)"
   ]
  },
  {
   "cell_type": "code",
   "execution_count": 110,
   "metadata": {},
   "outputs": [
    {
     "ename": "TypeError",
     "evalue": "'tuple' object does not support item assignment",
     "output_type": "error",
     "traceback": [
      "\u001b[0;31m---------------------------------------------------------------------------\u001b[0m",
      "\u001b[0;31mTypeError\u001b[0m                                 Traceback (most recent call last)",
      "\u001b[0;32m<ipython-input-110-2878e5b8d702>\u001b[0m in \u001b[0;36m<module>\u001b[0;34m()\u001b[0m\n\u001b[1;32m      1\u001b[0m \u001b[0;31m# tuples are immutable\u001b[0m\u001b[0;34m\u001b[0m\u001b[0;34m\u001b[0m\u001b[0m\n\u001b[1;32m      2\u001b[0m \u001b[0mmytuple\u001b[0m \u001b[0;34m=\u001b[0m \u001b[0;34m(\u001b[0m\u001b[0;34m'Mona'\u001b[0m\u001b[0;34m,\u001b[0m \u001b[0;34m'Mina'\u001b[0m\u001b[0;34m,\u001b[0m \u001b[0;34m'Lisa'\u001b[0m\u001b[0;34m)\u001b[0m\u001b[0;34m\u001b[0m\u001b[0m\n\u001b[0;32m----> 3\u001b[0;31m \u001b[0mmytuple\u001b[0m\u001b[0;34m[\u001b[0m\u001b[0;36m1\u001b[0m\u001b[0;34m]\u001b[0m \u001b[0;34m=\u001b[0m \u001b[0;34m'Lena'\u001b[0m\u001b[0;34m\u001b[0m\u001b[0m\n\u001b[0m",
      "\u001b[0;31mTypeError\u001b[0m: 'tuple' object does not support item assignment"
     ]
    }
   ],
   "source": [
    "# tuples are immutable\n",
    "mytuple = ('Mona', 'Mina', 'Lisa')\n",
    "mytuple[1] = 'Lena'"
   ]
  },
  {
   "cell_type": "code",
   "execution_count": 116,
   "metadata": {},
   "outputs": [
    {
     "data": {
      "text/plain": [
       "{1, 2, 3, 4}"
      ]
     },
     "execution_count": 116,
     "metadata": {},
     "output_type": "execute_result"
    }
   ],
   "source": [
    "# order doesn't matter in sets and items are unique (no duplicate number)\n",
    "myset1 = {1, 2, 3, 4, 4, 4}\n",
    "myset1"
   ]
  },
  {
   "cell_type": "code",
   "execution_count": 118,
   "metadata": {},
   "outputs": [
    {
     "data": {
      "text/plain": [
       "{3, 4}"
      ]
     },
     "execution_count": 118,
     "metadata": {},
     "output_type": "execute_result"
    }
   ],
   "source": [
    "myset2 = {3, 5, 6, 7, 4}\n",
    "myset1.intersection(myset2)"
   ]
  },
  {
   "cell_type": "code",
   "execution_count": 119,
   "metadata": {},
   "outputs": [
    {
     "data": {
      "text/plain": [
       "{1, 2, 3, 4, 5, 6, 7}"
      ]
     },
     "execution_count": 119,
     "metadata": {},
     "output_type": "execute_result"
    }
   ],
   "source": [
    "myset1.union(myset2)"
   ]
  },
  {
   "cell_type": "code",
   "execution_count": 120,
   "metadata": {},
   "outputs": [],
   "source": [
    "myset3 = {}"
   ]
  },
  {
   "cell_type": "code",
   "execution_count": 121,
   "metadata": {},
   "outputs": [
    {
     "data": {
      "text/plain": [
       "dict"
      ]
     },
     "execution_count": 121,
     "metadata": {},
     "output_type": "execute_result"
    }
   ],
   "source": [
    "# dictionaries\n",
    "\n",
    "mydict = {}\n",
    "type(mydict)"
   ]
  },
  {
   "cell_type": "code",
   "execution_count": 123,
   "metadata": {},
   "outputs": [
    {
     "name": "stdout",
     "output_type": "stream",
     "text": [
      "Mona CS\n",
      "Mina Art\n",
      "Lisa PS\n"
     ]
    }
   ],
   "source": [
    "students = {'Mona': 'CS', 'Mina': 'Art', 'Lisa': 'PS'}\n",
    "for key, value in students.items():\n",
    "    print(key, value)"
   ]
  },
  {
   "cell_type": "code",
   "execution_count": 124,
   "metadata": {},
   "outputs": [
    {
     "data": {
      "text/plain": [
       "'CS'"
      ]
     },
     "execution_count": 124,
     "metadata": {},
     "output_type": "execute_result"
    }
   ],
   "source": [
    "students['Mona']"
   ]
  },
  {
   "cell_type": "code",
   "execution_count": 125,
   "metadata": {},
   "outputs": [
    {
     "ename": "KeyError",
     "evalue": "'CS'",
     "output_type": "error",
     "traceback": [
      "\u001b[0;31m---------------------------------------------------------------------------\u001b[0m",
      "\u001b[0;31mKeyError\u001b[0m                                  Traceback (most recent call last)",
      "\u001b[0;32m<ipython-input-125-9d1e488384ce>\u001b[0m in \u001b[0;36m<module>\u001b[0;34m()\u001b[0m\n\u001b[0;32m----> 1\u001b[0;31m \u001b[0mstudents\u001b[0m\u001b[0;34m[\u001b[0m\u001b[0;34m'CS'\u001b[0m\u001b[0;34m]\u001b[0m\u001b[0;34m\u001b[0m\u001b[0m\n\u001b[0m",
      "\u001b[0;31mKeyError\u001b[0m: 'CS'"
     ]
    }
   ],
   "source": [
    "# try accessing a key that doesn't exist\n",
    "students['CS']"
   ]
  },
  {
   "cell_type": "code",
   "execution_count": 129,
   "metadata": {},
   "outputs": [
    {
     "data": {
      "text/plain": [
       "'Not found'"
      ]
     },
     "execution_count": 129,
     "metadata": {},
     "output_type": "execute_result"
    }
   ],
   "source": [
    "# check if a key exists and if not print 'Not found'\n",
    "students.get('_CS_', 'Not found')"
   ]
  },
  {
   "cell_type": "code",
   "execution_count": 131,
   "metadata": {},
   "outputs": [
    {
     "data": {
      "text/plain": [
       "{'Mona': 'CS', 'Mina': 'Art', 'Lisa': 'PS', 'Kimi': 'EE'}"
      ]
     },
     "execution_count": 131,
     "metadata": {},
     "output_type": "execute_result"
    }
   ],
   "source": [
    "students.update({'Mona': 'CS', 'Mina': 'Art', 'Lisa': 'PS', 'Kimi': 'EE'})\n",
    "students"
   ]
  },
  {
   "cell_type": "code",
   "execution_count": 132,
   "metadata": {},
   "outputs": [
    {
     "data": {
      "text/plain": [
       "{'Mina': 'Art', 'Lisa': 'PS', 'Kimi': 'EE'}"
      ]
     },
     "execution_count": 132,
     "metadata": {},
     "output_type": "execute_result"
    }
   ],
   "source": [
    "# delete a key and its corresponding value\n",
    "del students['Mona']\n",
    "students"
   ]
  },
  {
   "cell_type": "code",
   "execution_count": 133,
   "metadata": {},
   "outputs": [
    {
     "data": {
      "text/plain": [
       "3"
      ]
     },
     "execution_count": 133,
     "metadata": {},
     "output_type": "execute_result"
    }
   ],
   "source": [
    "# find number of keys\n",
    "len(students.keys())"
   ]
  },
  {
   "cell_type": "code",
   "execution_count": 135,
   "metadata": {},
   "outputs": [
    {
     "data": {
      "text/plain": [
       "dict_keys(['Mina', 'Lisa', 'Kimi'])"
      ]
     },
     "execution_count": 135,
     "metadata": {},
     "output_type": "execute_result"
    }
   ],
   "source": [
    "students.keys()"
   ]
  },
  {
   "cell_type": "code",
   "execution_count": 136,
   "metadata": {},
   "outputs": [
    {
     "data": {
      "text/plain": [
       "dict_values(['Art', 'PS', 'EE'])"
      ]
     },
     "execution_count": 136,
     "metadata": {},
     "output_type": "execute_result"
    }
   ],
   "source": [
    "students.values()"
   ]
  },
  {
   "cell_type": "code",
   "execution_count": 137,
   "metadata": {},
   "outputs": [
    {
     "data": {
      "text/plain": [
       "dict_items([('Mina', 'Art'), ('Lisa', 'PS'), ('Kimi', 'EE')])"
      ]
     },
     "execution_count": 137,
     "metadata": {},
     "output_type": "execute_result"
    }
   ],
   "source": [
    "students.items()"
   ]
  },
  {
   "cell_type": "code",
   "execution_count": 139,
   "metadata": {},
   "outputs": [
    {
     "name": "stdout",
     "output_type": "stream",
     "text": [
      "Mina\n",
      "Lisa\n",
      "Kimi\n"
     ]
    }
   ],
   "source": [
    "for key in students:\n",
    "    print(key)"
   ]
  },
  {
   "cell_type": "code",
   "execution_count": 141,
   "metadata": {},
   "outputs": [
    {
     "name": "stdout",
     "output_type": "stream",
     "text": [
      "4358916232\n",
      "4378011464\n",
      "False\n",
      "Help on built-in function id in module builtins:\n",
      "\n",
      "id(obj, /)\n",
      "    Return the identity of an object.\n",
      "    \n",
      "    This is guaranteed to be unique among simultaneously existing objects.\n",
      "    (CPython uses the object's memory address.)\n",
      "\n",
      "None\n"
     ]
    }
   ],
   "source": [
    "a = [1, 2, 3]\n",
    "b = [1, 2, 3]\n",
    "print(id(a))\n",
    "print(id(b))\n",
    "print(a is b)\n",
    "print(help(id))"
   ]
  },
  {
   "cell_type": "code",
   "execution_count": 142,
   "metadata": {},
   "outputs": [
    {
     "name": "stdout",
     "output_type": "stream",
     "text": [
      "Anne.txt\n",
      "r\n"
     ]
    }
   ],
   "source": [
    "f = open('Anne.txt', 'r')\n",
    "print(f.name)\n",
    "print(f.mode)\n",
    "f.close()"
   ]
  },
  {
   "cell_type": "code",
   "execution_count": 145,
   "metadata": {},
   "outputs": [
    {
     "data": {
      "text/plain": [
       "True"
      ]
     },
     "execution_count": 145,
     "metadata": {},
     "output_type": "execute_result"
    }
   ],
   "source": [
    "# using a context manager to avoid heap leakage\n",
    "with open('Anne.txt', 'r') as f:\n",
    "    pass\n",
    "f.closed"
   ]
  },
  {
   "cell_type": "code",
   "execution_count": 146,
   "metadata": {},
   "outputs": [],
   "source": [
    "with open('Anne.txt', 'r') as f:\n",
    "    content = f.readlines()"
   ]
  },
  {
   "cell_type": "code",
   "execution_count": 152,
   "metadata": {},
   "outputs": [
    {
     "name": "stdout",
     "output_type": "stream",
     "text": [
      "“Well, we’ve been thinking about it for some time--all winter in fact,”\n",
      " returned Marilla. “Mrs. Alexander Spencer was up here one day before\n",
      "Christmas and she said she was going to get a little girl from the\n",
      "asylum over in Hopeton in the spring. Her cousin lives there and Mrs.\n",
      "Spencer has visited here and knows all about it. So Matthew and I have\n",
      "talked it over off and on ever since. We thought we’d get a boy. Matthew\n",
      "is getting up in years, you know--he’s sixty--and he isn’t so spry as he\n",
      "once was. His heart troubles him a good deal. And you know how desperate\n",
      "hard it’s got to be to get hired help. There’s never anybody to be had\n",
      "but those stupid, half-grown little French boys; and as soon as you do\n",
      "get one broke into your ways and taught something he’s up and off to the\n",
      "lobster canneries or the States. At first Matthew suggested getting a\n",
      "Home boy. But I said ‘no’ flat to that. ‘They may be all right--I’m not\n",
      "saying they’re not--but no London street Arabs for me,’ I said. ‘Give\n",
      "me a native born at least. There’ll be a risk, no matter who we get. But\n",
      "I’ll feel easier in my mind and sleep sounder at nights if we get a born\n",
      "Canadian.’ So in the end we decided to ask Mrs. Spencer to pick us out\n",
      "one when she went over to get her little girl. We heard last week she\n",
      "was going, so we sent her word by Richard Spencer’s folks at Carmody\n",
      "to bring us a smart, likely boy of about ten or eleven. We decided that\n",
      "would be the best age--old enough to be of some use in doing chores\n",
      "right off and young enough to be trained up proper. We mean to give him\n",
      "a good home and schooling. We had a telegram from Mrs. Alexander Spencer\n",
      "today--the mail-man brought it from the station--saying they were coming\n",
      "on the five-thirty train tonight. So Matthew went to Bright River to\n",
      "meet him. Mrs. Spencer will drop him off there. Of course she goes on to\n",
      "White Sands station herself.”\n",
      "\n",
      "Mrs. Rachel prided herself on always speaking her mind; she proceeded to\n",
      "speak it now, having adjusted her mental attitude to this amazing piece\n",
      "of news.\n",
      "\n",
      "“Well, Marilla, I’ll just tell you plain that I think you’re doing a\n",
      "mighty foolish thing--a risky thing, that’s what. You don’t know what\n",
      "you’re getting. You’re bringing a strange child into your house and home\n",
      "and you don’t know a single thing about him nor what his disposition is\n",
      "like nor what sort of parents he had nor how he’s likely to turn out.\n",
      "Why, it was only last week I read in the paper how a man and his wife up\n",
      "west of the Island took a boy out of an orphan asylum and he set fire to\n",
      "the house at night--set it _on purpose_, Marilla--and nearly burnt them to\n",
      "a crisp in their beds. And I know another case where an adopted boy used\n",
      "to suck the eggs--they couldn’t break him of it. If you had asked my\n",
      "advice in the matter--which you didn’t do, Marilla--I’d have said for\n",
      "mercy’s sake not to think of such a thing, that’s what.”\n",
      "\n",
      "This Job’s comforting seemed neither to offend nor to alarm Marilla. She\n",
      "knitted steadily on.\n",
      "\n",
      "“I don’t deny there’s something in what you say, Rachel. I’ve had some\n",
      "qualms myself. But Matthew was terrible set on it. I could see that, so\n",
      "I gave in. It’s so seldom Matthew sets his mind on anything that when he\n",
      "does I always feel it’s my duty to give in. And as for the risk, there’s\n",
      "risks in pretty near everything a body does in this world. There’s risks\n",
      "in people’s having children of their own if it comes to that--they don’t\n",
      "always turn out well. And then Nova Scotia is right close to the Island.\n",
      "It isn’t as if we were getting him from England or the States. He can’t\n",
      "be much different from ourselves.”\n",
      "\n",
      "“Well, I hope it will turn out all right,” said Mrs. Rachel in a tone\n",
      "that plainly indicated her painful doubts. “Only don’t say I didn’t\n",
      "warn you if he burns Green Gables down or puts strychnine in the well--I\n",
      "heard of a case over in New Brunswick where an orphan asylum child did\n",
      "that and the whole family died in fearful agonies. Only, it was a girl\n",
      "in that instance.”\n",
      "\n",
      "“Well, we’re not getting a girl,” said Marilla, as if poisoning wells\n",
      "were a purely feminine accomplishment and not to be dreaded in the case\n",
      "of a boy. “I’d never dream of taking a girl to bring up. I wonder at\n",
      "Mrs. Alexander Spencer for doing it. But there, _she_ wouldn’t shrink\n",
      "from adopting a whole orphan asylum if she took it into her head.”\n",
      "\n",
      "Mrs. Rachel would have liked to stay until Matthew came home with his\n",
      "imported orphan. But reflecting that it would be a good two hours at\n",
      "least before his arrival she concluded to go up the road to Robert\n",
      "Bell’s and tell the news. It would certainly make a sensation second\n",
      "to none, and Mrs. Rachel dearly loved to make a sensation. So she took\n",
      "herself away, somewhat to Marilla’s relief, for the latter felt\n",
      "her doubts and fears reviving under the influence of Mrs. Rachel’s\n",
      "pessimism.\n",
      "\n",
      "“Well, of all things that ever were or will be!” ejaculated Mrs. Rachel\n",
      "when she was safely out in the lane. “It does really seem as if I must\n",
      "be dreaming. Well, I’m sorry for that poor young one and no mistake.\n",
      "Matthew and Marilla don’t know anything about children and they’ll\n",
      "expect him to be wiser and steadier that his own grandfather, if so be’s\n",
      "he ever had a grandfather, which is doubtful. It seems uncanny to think\n",
      "of a child at Green Gables somehow; there’s never been one there, for\n",
      "Matthew and Marilla were grown up when the new house was built--if they\n",
      "ever _were_ children, which is hard to believe when one looks at them.\n",
      "I wouldn’t be in that orphan’s shoes for anything. My, but I pity him,\n",
      "that’s what.”\n",
      "\n",
      "So said Mrs. Rachel to the wild rose bushes out of the fulness of her\n",
      "heart; but if she could have seen the child who was waiting patiently\n",
      "at the Bright River station at that very moment her pity would have been\n",
      "still deeper and more profound.\n",
      "\n",
      "\n",
      "\n",
      "\n",
      "CHAPTER II. Matthew Cuthbert is surprised\n",
      "\n",
      "\n",
      "|MATTHEW Cuthbert and the sorrel mare jogged comfortably over the eight\n",
      "miles to Bright River. It was a pretty road, running along between\n",
      "snug farmsteads, with now and again a bit of balsamy fir wood to drive\n",
      "through or a hollow where wild plums hung out their filmy bloom. The air\n",
      "was sweet with the breath of many apple orchards and the meadows sloped\n",
      "away in the distance to horizon mists of pearl and purple; while\n",
      "\n",
      "     “The little birds sang as if it were\n",
      "     The one day of summer in all the year.”\n",
      "\n",
      "Matthew enjoyed the drive after his own fashion, except during the\n",
      "moments when he met women and had to nod to them--for in Prince Edward\n",
      "island you are supposed to nod to all and sundry you meet on the road\n",
      "whether you know them or not.\n",
      "\n",
      "Matthew dreaded all women except Marilla and Mrs. Rachel; he had an\n",
      "uncomfortable feeling that the mysterious creatures were secretly\n",
      "laughing at him. He may have been quite right in thinking so, for he\n",
      "was an odd-looking personage, with an ungainly figure and long iron-gray\n",
      "hair that touched his stooping shoulders, and a full, soft brown beard\n",
      "which he had worn ever since he was twenty. In fact, he had looked\n",
      "at twenty very much as he looked at sixty, lacking a little of the\n",
      "grayness.\n",
      "\n",
      "When he reached Bright River there was no sign of any train; he thought\n",
      "he was too early, so he tied his horse in the yard of the small Bright\n",
      "River hotel and went over to the station house. The long platform was\n",
      "almost deserted; the only living creature in sight being a girl who was\n",
      "sitting on a pile of shingles at the extreme end. Matthew, barely noting\n",
      "that it _was_ a girl, sidled past her as quickly as possible without\n",
      "looking at her. Had he looked he could hardly have failed to notice the\n",
      "tense rigidity and expectation of her attitude and expression. She was\n",
      "sitting there waiting for something or somebody and, since sitting and\n",
      "waiting was the only thing to do just then, she sat and waited with all\n",
      "her might and main.\n",
      "\n",
      "Matthew encountered the stationmaster locking up the ticket office\n",
      "preparatory to going home for supper, and asked him if the five-thirty\n",
      "train would soon be along.\n",
      "\n",
      "“The five-thirty train has been in and gone half an hour ago,” answered\n",
      "that brisk official. “But there was a passenger dropped off for you--a\n",
      "little girl. She’s sitting out there on the shingles. I asked her to\n",
      "go into the ladies’ waiting room, but she informed me gravely that she\n",
      "preferred to stay outside. ‘There was more scope for imagination,’ she\n",
      "said. She’s a case, I should say.”\n",
      "\n",
      "“I’m not expecting a girl,” said Matthew blankly. “It’s a boy I’ve come\n",
      "for. He should be here. Mrs. Alexander Spencer was to bring him over\n",
      "from Nova Scotia for me.”\n",
      "\n",
      "The stationmaster whistled.\n",
      "\n",
      "“Guess there’s some mistake,” he said. “Mrs. Spencer came off the train\n",
      "with that girl and gave her into my charge. Said you and your sister\n",
      "were adopting her from an orphan asylum and that you would be along for\n",
      "her presently. That’s all I know about it--and I haven’t got any more\n",
      "orphans concealed hereabouts.”\n",
      "\n",
      "“I don’t understand,” said Matthew helplessly, wishing that Marilla was\n",
      "at hand to cope with the situation.\n",
      "\n",
      "“Well, you’d better question the girl,” said the station-master\n",
      "carelessly. “I dare say she’ll be able to explain--she’s got a tongue\n",
      "of her own, that’s certain. Maybe they were out of boys of the brand you\n",
      "wanted.”\n",
      "\n",
      "He walked jauntily away, being hungry, and the unfortunate Matthew was\n",
      "left to do that which was harder for him than bearding a lion in its\n",
      "den--walk up to a girl--a strange girl--an orphan girl--and demand of\n",
      "her why she wasn’t a boy. Matthew groaned in spirit as he turned about\n",
      "and shuffled gently down the platform towards her.\n",
      "\n",
      "She had been watching him ever since he had passed her and she had her\n",
      "eyes on him now. Matthew was not looking at her and would not have seen\n",
      "what she was really like if he had been, but an ordinary observer would\n",
      "have seen this: A child of about eleven, garbed in a very short, very\n",
      "tight, very ugly dress of yellowish-gray wincey. She wore a faded brown\n",
      "sailor hat and beneath the hat, extending down her back, were two braids\n",
      "of very thick, decidedly red hair. Her face was small, white and thin,\n",
      "also much freckled; her mouth was large and so were her eyes, which\n",
      "looked green in some lights and moods and gray in others.\n",
      "\n",
      "So far, the ordinary observer; an extraordinary observer might have seen\n",
      "that the chin was very pointed and pronounced; that the big eyes\n",
      "were full of spirit and vivacity; that the mouth was sweet-lipped\n",
      "and expressive; that the forehead was broad and full; in short,\n",
      "our discerning extraordinary observer might have concluded that no\n",
      "commonplace soul inhabited the body of this stray woman-child of whom\n",
      "shy Matthew Cuthbert was so ludicrously afraid.\n",
      "\n",
      "Matthew, however, was spared the ordeal of speaking first, for as soon\n",
      "as she concluded that he was coming to her she stood up, grasping with\n",
      "one thin brown hand the handle of a shabby, old-fashioned carpet-bag;\n",
      "the other she held out to him.\n",
      "\n",
      "“I suppose you are Mr. Matthew Cuthbert of Green Gables?” she said in\n",
      "a peculiarly clear, sweet voice. “I’m very glad to see you. I was\n",
      "beginning to be afraid you weren’t coming for me and I was imagining\n",
      "all the things that might have happened to prevent you. I had made up\n",
      "my mind that if you didn’t come for me to-night I’d go down the track to\n",
      "that big wild cherry-tree at the bend, and climb up into it to stay all\n",
      "night. I wouldn’t be a bit afraid, and it would be lovely to sleep in a\n",
      "wild cherry-tree all white with bloom in the moonshine, don’t you think?\n",
      "You could imagine you were dwelling in marble halls, couldn’t you? And\n",
      "I was quite sure you would come for me in the morning, if you didn’t\n",
      "to-night.”\n",
      "\n",
      "Matthew had taken the scrawny little hand awkwardly in his; then and\n",
      "there he decided what to do. He could not tell this child with the\n",
      "glowing eyes that there had been a mistake; he would take her home and\n",
      "let Marilla do that. She couldn’t be left at Bright River anyhow, no\n",
      "matter what mistake had been made, so all questions and explanations\n",
      "might as well be deferred until he was safely back at Green Gables.\n",
      "\n",
      "“I’m sorry I was late,” he said shyly. “Come along. The horse is over in\n",
      "the yard. Give me your bag.”\n",
      "\n",
      "“Oh, I can carry it,” the child responded cheerfully. “It isn’t heavy.\n",
      "I’ve got all my worldly goods in it, but it isn’t heavy. And if it isn’t\n",
      "carried in just a certain way the handle pulls out--so I’d better\n",
      "keep it because I know the exact knack of it. It’s an extremely old\n",
      "carpet-bag. Oh, I’m very glad you’ve come, even if it would have been\n",
      "nice to sleep in a wild cherry-tree. We’ve got to drive a long piece,\n",
      "haven’t we? Mrs. Spencer said it was eight miles. I’m glad because I\n",
      "love driving. Oh, it seems so wonderful that I’m going to live with you\n",
      "and belong to you. I’ve never belonged to anybody--not really. But the\n",
      "asylum was the worst. I’ve only been in it four months, but that was\n",
      "enough. I don’t suppose you ever were an orphan in an asylum, so you\n",
      "can’t possibly understand what it is like. It’s worse than anything you\n",
      "could imagine. Mrs. Spencer said it was wicked of me to talk like\n",
      "that, but I didn’t mean to be wicked. It’s so easy to be wicked without\n",
      "knowing it, isn’t it? They were good, you know--the asylum people. But\n",
      "there is so little scope for the imagination in an asylum--only just\n",
      "in the other orphans. It was pretty interesting to imagine things about\n",
      "them--to imagine that perhaps the girl who sat next to you was really\n",
      "the daughter of a belted earl, who had been stolen away from her parents\n",
      "in her infancy by a cruel nurse who died before she could confess. I\n",
      "used to lie awake at nights and imagine things like that, because\n",
      "I didn’t have time in the day. I guess that’s why I’m so thin--I _am_\n",
      "dreadful thin, ain’t I? There isn’t a pick on my bones. I do love to\n",
      "imagine I’m nice and plump, with dimples in my elbows.”\n",
      "\n",
      "With this Matthew’s companion stopped talking, partly because she was\n",
      "out of breath and partly because they had reached the buggy. Not another\n",
      "word did she say until they had left the village and were driving down\n",
      "a steep little hill, the road part of which had been cut so deeply into\n",
      "the soft soil, that the banks, fringed with blooming wild cherry-trees\n",
      "and slim white birches, were several feet above their heads.\n",
      "\n",
      "The child put out her hand and broke off a branch of wild plum that\n",
      "brushed against the side of the buggy.\n",
      "\n",
      "“Isn’t that beautiful? What did that tree, leaning out from the bank,\n",
      "all white and lacy, make you think of?” she asked.\n",
      "\n",
      "“Well now, I dunno,” said Matthew.\n",
      "\n",
      "“Why, a bride, of course--a bride all in white with a lovely misty veil.\n",
      "I’ve never seen one, but I can imagine what she would look like. I don’t\n",
      "ever expect to be a bride myself. I’m so homely nobody will ever want to\n",
      "marry me--unless it might be a foreign missionary. I suppose a foreign\n",
      "missionary mightn’t be very particular. But I do hope that some day I\n",
      "shall have a white dress. That is my highest ideal of earthly bliss. I\n",
      "just love pretty clothes. And I’ve never had a pretty dress in my life\n",
      "that I can remember--but of course it’s all the more to look forward\n",
      "to, isn’t it? And then I can imagine that I’m dressed gorgeously. This\n",
      "morning when I left the asylum I felt so ashamed because I had to wear\n",
      "this horrid old wincey dress. All the orphans had to wear them, you\n",
      "know. A merchant in Hopeton last winter donated three hundred yards of\n",
      "wincey to the asylum. Some people said it was because he couldn’t sell\n",
      "it, but I’d rather believe that it was out of the kindness of his heart,\n",
      "wouldn’t you? When we got on the train I felt as if everybody must be\n",
      "looking at me and pitying me. But I just went to work and imagined that\n",
      "I had on the most beautiful pale blue silk dress--because when you _are_\n",
      "imagining you might as well imagine something worth while--and a big\n",
      "hat all flowers and nodding plumes, and a gold watch, and kid gloves and\n",
      "boots. I felt cheered up right away and I enjoyed my trip to the Island\n",
      "with all my might. I wasn’t a bit sick coming over in the boat. Neither\n",
      "was Mrs. Spencer although she generally is. She said she hadn’t time\n",
      "to get sick, watching to see that I didn’t fall overboard. She said she\n",
      "never saw the beat of me for prowling about. But if it kept her from\n",
      "being seasick it’s a mercy I did prowl, isn’t it? And I wanted to see\n",
      "everything that was to be seen on that boat, because I didn’t know\n",
      "whether I’d ever have another opportunity. Oh, there are a lot more\n",
      "cherry-trees all in bloom! This Island is the bloomiest place. I just\n",
      "love it already, and I’m so glad I’m going to live here. I’ve always\n",
      "heard that Prince Edward Island was the prettiest place in the world,\n",
      "and I used to imagine I was living here, but I never really expected I\n",
      "would. It’s delightful when your imaginations come true, isn’t it?\n",
      "But those red roads are so funny. When we got into the train at\n",
      "Charlottetown and the red roads began to flash past I asked Mrs. Spencer\n",
      "what made them red and she said she didn’t know and for pity’s sake not\n",
      "to ask her any more questions. She said I must have asked her a thousand\n",
      "already. I suppose I had, too, but how you going to find out about\n",
      "things if you don’t ask questions? And what _does_ make the roads red?”"
     ]
    }
   ],
   "source": [
    "with open('Anne.txt', 'r') as f:\n",
    "    for line in f:\n",
    "        print(line, end='')"
   ]
  },
  {
   "cell_type": "code",
   "execution_count": 157,
   "metadata": {},
   "outputs": [
    {
     "name": "stdout",
     "output_type": "stream",
     "text": [
      "1034\n"
     ]
    }
   ],
   "source": [
    "with open('Anne.txt', 'r') as f:\n",
    "    size_to_read = 1000\n",
    "    f.read(size_to_read)\n",
    "    print(f.tell())"
   ]
  },
  {
   "cell_type": "code",
   "execution_count": null,
   "metadata": {},
   "outputs": [],
   "source": []
  }
 ],
 "metadata": {
  "kernelspec": {
   "display_name": "Python 3",
   "language": "python",
   "name": "python3"
  },
  "language_info": {
   "codemirror_mode": {
    "name": "ipython",
    "version": 3
   },
   "file_extension": ".py",
   "mimetype": "text/x-python",
   "name": "python",
   "nbconvert_exporter": "python",
   "pygments_lexer": "ipython3",
   "version": "3.6.5"
  }
 },
 "nbformat": 4,
 "nbformat_minor": 1
}
