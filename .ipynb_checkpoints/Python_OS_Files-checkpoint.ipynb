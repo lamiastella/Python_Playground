{
 "cells": [
  {
   "cell_type": "code",
   "execution_count": 35,
   "metadata": {},
   "outputs": [
    {
     "data": {
      "text/plain": [
       "['CLD_CONTINUED',\n",
       " 'CLD_DUMPED',\n",
       " 'CLD_EXITED',\n",
       " 'CLD_TRAPPED',\n",
       " 'DirEntry',\n",
       " 'EX_CANTCREAT',\n",
       " 'EX_CONFIG',\n",
       " 'EX_DATAERR',\n",
       " 'EX_IOERR',\n",
       " 'EX_NOHOST',\n",
       " 'EX_NOINPUT',\n",
       " 'EX_NOPERM',\n",
       " 'EX_NOUSER',\n",
       " 'EX_OK',\n",
       " 'EX_OSERR',\n",
       " 'EX_OSFILE',\n",
       " 'EX_PROTOCOL',\n",
       " 'EX_SOFTWARE',\n",
       " 'EX_TEMPFAIL',\n",
       " 'EX_UNAVAILABLE',\n",
       " 'EX_USAGE',\n",
       " 'F_LOCK',\n",
       " 'F_OK',\n",
       " 'F_TEST',\n",
       " 'F_TLOCK',\n",
       " 'F_ULOCK',\n",
       " 'MutableMapping',\n",
       " 'NGROUPS_MAX',\n",
       " 'O_ACCMODE',\n",
       " 'O_APPEND',\n",
       " 'O_ASYNC',\n",
       " 'O_CLOEXEC',\n",
       " 'O_CREAT',\n",
       " 'O_DIRECTORY',\n",
       " 'O_DSYNC',\n",
       " 'O_EXCL',\n",
       " 'O_EXLOCK',\n",
       " 'O_NDELAY',\n",
       " 'O_NOCTTY',\n",
       " 'O_NOFOLLOW',\n",
       " 'O_NONBLOCK',\n",
       " 'O_RDONLY',\n",
       " 'O_RDWR',\n",
       " 'O_SHLOCK',\n",
       " 'O_SYNC',\n",
       " 'O_TRUNC',\n",
       " 'O_WRONLY',\n",
       " 'PRIO_PGRP',\n",
       " 'PRIO_PROCESS',\n",
       " 'PRIO_USER',\n",
       " 'P_ALL',\n",
       " 'P_NOWAIT',\n",
       " 'P_NOWAITO',\n",
       " 'P_PGID',\n",
       " 'P_PID',\n",
       " 'P_WAIT',\n",
       " 'PathLike',\n",
       " 'RTLD_GLOBAL',\n",
       " 'RTLD_LAZY',\n",
       " 'RTLD_LOCAL',\n",
       " 'RTLD_NODELETE',\n",
       " 'RTLD_NOLOAD',\n",
       " 'RTLD_NOW',\n",
       " 'R_OK',\n",
       " 'SCHED_FIFO',\n",
       " 'SCHED_OTHER',\n",
       " 'SCHED_RR',\n",
       " 'SEEK_CUR',\n",
       " 'SEEK_END',\n",
       " 'SEEK_SET',\n",
       " 'ST_NOSUID',\n",
       " 'ST_RDONLY',\n",
       " 'TMP_MAX',\n",
       " 'WCONTINUED',\n",
       " 'WCOREDUMP',\n",
       " 'WEXITED',\n",
       " 'WEXITSTATUS',\n",
       " 'WIFCONTINUED',\n",
       " 'WIFEXITED',\n",
       " 'WIFSIGNALED',\n",
       " 'WIFSTOPPED',\n",
       " 'WNOHANG',\n",
       " 'WNOWAIT',\n",
       " 'WSTOPPED',\n",
       " 'WSTOPSIG',\n",
       " 'WTERMSIG',\n",
       " 'WUNTRACED',\n",
       " 'W_OK',\n",
       " 'X_OK',\n",
       " '_Environ',\n",
       " '__all__',\n",
       " '__builtins__',\n",
       " '__cached__',\n",
       " '__doc__',\n",
       " '__file__',\n",
       " '__loader__',\n",
       " '__name__',\n",
       " '__package__',\n",
       " '__spec__',\n",
       " '__warningregistry__',\n",
       " '_execvpe',\n",
       " '_exists',\n",
       " '_exit',\n",
       " '_fspath',\n",
       " '_get_exports_list',\n",
       " '_putenv',\n",
       " '_spawnvef',\n",
       " '_unsetenv',\n",
       " '_wrap_close',\n",
       " 'abc',\n",
       " 'abort',\n",
       " 'access',\n",
       " 'altsep',\n",
       " 'chdir',\n",
       " 'chflags',\n",
       " 'chmod',\n",
       " 'chown',\n",
       " 'chroot',\n",
       " 'close',\n",
       " 'closerange',\n",
       " 'confstr',\n",
       " 'confstr_names',\n",
       " 'cpu_count',\n",
       " 'ctermid',\n",
       " 'curdir',\n",
       " 'defpath',\n",
       " 'device_encoding',\n",
       " 'devnull',\n",
       " 'dup',\n",
       " 'dup2',\n",
       " 'environ',\n",
       " 'environb',\n",
       " 'errno',\n",
       " 'error',\n",
       " 'execl',\n",
       " 'execle',\n",
       " 'execlp',\n",
       " 'execlpe',\n",
       " 'execv',\n",
       " 'execve',\n",
       " 'execvp',\n",
       " 'execvpe',\n",
       " 'extsep',\n",
       " 'fchdir',\n",
       " 'fchmod',\n",
       " 'fchown',\n",
       " 'fdopen',\n",
       " 'fork',\n",
       " 'forkpty',\n",
       " 'fpathconf',\n",
       " 'fsdecode',\n",
       " 'fsencode',\n",
       " 'fspath',\n",
       " 'fstat',\n",
       " 'fstatvfs',\n",
       " 'fsync',\n",
       " 'ftruncate',\n",
       " 'get_blocking',\n",
       " 'get_exec_path',\n",
       " 'get_inheritable',\n",
       " 'get_terminal_size',\n",
       " 'getcwd',\n",
       " 'getcwdb',\n",
       " 'getegid',\n",
       " 'getenv',\n",
       " 'getenvb',\n",
       " 'geteuid',\n",
       " 'getgid',\n",
       " 'getgrouplist',\n",
       " 'getgroups',\n",
       " 'getloadavg',\n",
       " 'getlogin',\n",
       " 'getpgid',\n",
       " 'getpgrp',\n",
       " 'getpid',\n",
       " 'getppid',\n",
       " 'getpriority',\n",
       " 'getsid',\n",
       " 'getuid',\n",
       " 'initgroups',\n",
       " 'isatty',\n",
       " 'kill',\n",
       " 'killpg',\n",
       " 'lchflags',\n",
       " 'lchmod',\n",
       " 'lchown',\n",
       " 'linesep',\n",
       " 'link',\n",
       " 'listdir',\n",
       " 'lockf',\n",
       " 'lseek',\n",
       " 'lstat',\n",
       " 'major',\n",
       " 'makedev',\n",
       " 'makedirs',\n",
       " 'minor',\n",
       " 'mkdir',\n",
       " 'mkfifo',\n",
       " 'mknod',\n",
       " 'name',\n",
       " 'nice',\n",
       " 'open',\n",
       " 'openpty',\n",
       " 'pardir',\n",
       " 'path',\n",
       " 'pathconf',\n",
       " 'pathconf_names',\n",
       " 'pathsep',\n",
       " 'pipe',\n",
       " 'popen',\n",
       " 'pread',\n",
       " 'putenv',\n",
       " 'pwrite',\n",
       " 'read',\n",
       " 'readlink',\n",
       " 'readv',\n",
       " 'remove',\n",
       " 'removedirs',\n",
       " 'rename',\n",
       " 'renames',\n",
       " 'replace',\n",
       " 'rmdir',\n",
       " 'scandir',\n",
       " 'sched_get_priority_max',\n",
       " 'sched_get_priority_min',\n",
       " 'sched_yield',\n",
       " 'sendfile',\n",
       " 'sep',\n",
       " 'set_blocking',\n",
       " 'set_inheritable',\n",
       " 'setegid',\n",
       " 'seteuid',\n",
       " 'setgid',\n",
       " 'setgroups',\n",
       " 'setpgid',\n",
       " 'setpgrp',\n",
       " 'setpriority',\n",
       " 'setregid',\n",
       " 'setreuid',\n",
       " 'setsid',\n",
       " 'setuid',\n",
       " 'spawnl',\n",
       " 'spawnle',\n",
       " 'spawnlp',\n",
       " 'spawnlpe',\n",
       " 'spawnv',\n",
       " 'spawnve',\n",
       " 'spawnvp',\n",
       " 'spawnvpe',\n",
       " 'st',\n",
       " 'stat',\n",
       " 'stat_float_times',\n",
       " 'stat_result',\n",
       " 'statvfs',\n",
       " 'statvfs_result',\n",
       " 'strerror',\n",
       " 'supports_bytes_environ',\n",
       " 'supports_dir_fd',\n",
       " 'supports_effective_ids',\n",
       " 'supports_fd',\n",
       " 'supports_follow_symlinks',\n",
       " 'symlink',\n",
       " 'sync',\n",
       " 'sys',\n",
       " 'sysconf',\n",
       " 'sysconf_names',\n",
       " 'system',\n",
       " 'tcgetpgrp',\n",
       " 'tcsetpgrp',\n",
       " 'terminal_size',\n",
       " 'times',\n",
       " 'times_result',\n",
       " 'truncate',\n",
       " 'ttyname',\n",
       " 'umask',\n",
       " 'uname',\n",
       " 'uname_result',\n",
       " 'unlink',\n",
       " 'unsetenv',\n",
       " 'urandom',\n",
       " 'utime',\n",
       " 'wait',\n",
       " 'wait3',\n",
       " 'wait4',\n",
       " 'waitpid',\n",
       " 'walk',\n",
       " 'write',\n",
       " 'writev']"
      ]
     },
     "execution_count": 35,
     "metadata": {},
     "output_type": "execute_result"
    }
   ],
   "source": [
    "import os\n",
    "dir(os)"
   ]
  },
  {
   "cell_type": "code",
   "execution_count": 3,
   "metadata": {},
   "outputs": [
    {
     "data": {
      "text/plain": [
       "'/Users/mona/Python_Playground'"
      ]
     },
     "execution_count": 3,
     "metadata": {},
     "output_type": "execute_result"
    }
   ],
   "source": [
    "os.getcwd()"
   ]
  },
  {
   "cell_type": "code",
   "execution_count": 4,
   "metadata": {},
   "outputs": [],
   "source": [
    "os.mkdir('test') "
   ]
  },
  {
   "cell_type": "code",
   "execution_count": 5,
   "metadata": {},
   "outputs": [],
   "source": [
    "os.chdir('test')"
   ]
  },
  {
   "cell_type": "code",
   "execution_count": 6,
   "metadata": {},
   "outputs": [
    {
     "data": {
      "text/plain": [
       "'/Users/mona/Python_Playground/test'"
      ]
     },
     "execution_count": 6,
     "metadata": {},
     "output_type": "execute_result"
    }
   ],
   "source": [
    "os.getcwd()"
   ]
  },
  {
   "cell_type": "code",
   "execution_count": 7,
   "metadata": {},
   "outputs": [
    {
     "data": {
      "text/plain": [
       "[]"
      ]
     },
     "execution_count": 7,
     "metadata": {},
     "output_type": "execute_result"
    }
   ],
   "source": [
    "os.listdir()"
   ]
  },
  {
   "cell_type": "code",
   "execution_count": 8,
   "metadata": {},
   "outputs": [],
   "source": [
    "os.chdir('..')"
   ]
  },
  {
   "cell_type": "code",
   "execution_count": 9,
   "metadata": {},
   "outputs": [],
   "source": [
    "os.rmdir('test')"
   ]
  },
  {
   "cell_type": "code",
   "execution_count": 11,
   "metadata": {},
   "outputs": [
    {
     "name": "stdout",
     "output_type": "stream",
     "text": [
      "-rw-r--r--    1 mona  staff     136 Mar  6 14:09 zip_pg.py\r\n",
      "-rw-r--r--    1 mona  staff     666 Mar 10 16:14 tree_traversals.py\r\n",
      "-rw-r--r--    1 mona  staff    2762 Mar 10 18:27 binarysearchtree.py\r\n",
      "-rw-r--r--    1 mona  staff   17506 Mar 10 20:20 Anne.txt\r\n",
      "drwxr-xr-x   12 mona  staff     384 Mar 10 20:20 .idea/\r\n",
      "drwxr-xr-x   15 mona  staff     480 Mar 11 01:02 .git/\r\n",
      "-rw-r--r--    1 mona  staff   49473 Mar 11 01:32 Python_NittyGritty.ipynb\r\n",
      "drwxr-xr-x    4 mona  staff     128 Mar 11 15:28 .ipynb_checkpoints/\r\n",
      "-rw-r--r--    1 mona  staff    9551 Mar 11 15:32 Python_OS_Files.ipynb\r\n",
      "drwxr-xr-x  121 mona  staff    3872 Mar 11 15:32 ./\r\n"
     ]
    }
   ],
   "source": [
    "% ls -ltra | tail -10"
   ]
  },
  {
   "cell_type": "code",
   "execution_count": 12,
   "metadata": {},
   "outputs": [],
   "source": [
    "os.rename('zip_pg.py', 'zip_program.py')"
   ]
  },
  {
   "cell_type": "code",
   "execution_count": 18,
   "metadata": {},
   "outputs": [
    {
     "name": "stdout",
     "output_type": "stream",
     "text": [
      "-rw-r--r--    1 mona  staff     136 Mar  6 14:09 zip_program.py\r\n",
      "-rw-r--r--    1 mona  staff     666 Mar 10 16:14 tree_traversals.py\r\n",
      "-rw-r--r--    1 mona  staff    2762 Mar 10 18:27 binarysearchtree.py\r\n",
      "-rw-r--r--    1 mona  staff   17506 Mar 10 20:20 Anne.txt\r\n",
      "drwxr-xr-x   12 mona  staff     384 Mar 10 20:20 .idea/\r\n",
      "drwxr-xr-x   15 mona  staff     480 Mar 11 01:02 .git/\r\n",
      "-rw-r--r--    1 mona  staff   49473 Mar 11 01:32 Python_NittyGritty.ipynb\r\n",
      "drwxr-xr-x    4 mona  staff     128 Mar 11 15:28 .ipynb_checkpoints/\r\n",
      "-rw-r--r--    1 mona  staff    9551 Mar 11 15:32 Python_OS_Files.ipynb\r\n",
      "drwxr-xr-x  121 mona  staff    3872 Mar 11 15:33 ./\r\n"
     ]
    }
   ],
   "source": [
    "% ls -ltra | tail -10"
   ]
  },
  {
   "cell_type": "code",
   "execution_count": 21,
   "metadata": {},
   "outputs": [
    {
     "data": {
      "text/plain": [
       "os.stat_result(st_mode=33188, st_ino=21048520, st_dev=16777220, st_nlink=1, st_uid=501, st_gid=20, st_size=17506, st_atime=1583902977, st_mtime=1583886032, st_ctime=1583886032)"
      ]
     },
     "execution_count": 21,
     "metadata": {},
     "output_type": "execute_result"
    }
   ],
   "source": [
    "os.stat('Anne.txt')"
   ]
  },
  {
   "cell_type": "code",
   "execution_count": 22,
   "metadata": {},
   "outputs": [
    {
     "data": {
      "text/plain": [
       "os.stat_result(st_mode=33188, st_ino=20836123, st_dev=16777220, st_nlink=1, st_uid=501, st_gid=20, st_size=136, st_atime=1583521788, st_mtime=1583521787, st_ctime=1583955191)"
      ]
     },
     "execution_count": 22,
     "metadata": {},
     "output_type": "execute_result"
    }
   ],
   "source": [
    "os.stat('zip_program.py')"
   ]
  },
  {
   "cell_type": "code",
   "execution_count": 23,
   "metadata": {},
   "outputs": [
    {
     "data": {
      "text/plain": [
       "17506"
      ]
     },
     "execution_count": 23,
     "metadata": {},
     "output_type": "execute_result"
    }
   ],
   "source": [
    "os.stat('Anne.txt').st_size #shows the size in byte"
   ]
  },
  {
   "cell_type": "code",
   "execution_count": 24,
   "metadata": {},
   "outputs": [
    {
     "data": {
      "text/plain": [
       "1583886032.5232382"
      ]
     },
     "execution_count": 24,
     "metadata": {},
     "output_type": "execute_result"
    }
   ],
   "source": [
    "os.stat('Anne.txt').st_mtime #shows the modification time"
   ]
  },
  {
   "cell_type": "code",
   "execution_count": 36,
   "metadata": {},
   "outputs": [],
   "source": [
    "from datetime import datetime"
   ]
  },
  {
   "cell_type": "code",
   "execution_count": 37,
   "metadata": {},
   "outputs": [
    {
     "data": {
      "text/plain": [
       "datetime.datetime(2020, 3, 10, 20, 20, 32, 523238)"
      ]
     },
     "execution_count": 37,
     "metadata": {},
     "output_type": "execute_result"
    }
   ],
   "source": [
    "mod_time = os.stat('Anne.txt').st_mtime #shows the modification time\n",
    "datetime.fromtimestamp(mod_time)"
   ]
  },
  {
   "cell_type": "code",
   "execution_count": 38,
   "metadata": {},
   "outputs": [
    {
     "name": "stdout",
     "output_type": "stream",
     "text": [
      "current path is:  .\n",
      "current directory is:  ['__pycache__', '.ipynb_checkpoints', '.git', 'alchemyapi_python', '.idea']\n",
      "current path is:  ./__pycache__\n",
      "current directory is:  []\n",
      "current path is:  ./.ipynb_checkpoints\n",
      "current directory is:  []\n",
      "current path is:  ./.git\n",
      "current directory is:  ['objects', 'info', 'logs', 'hooks', 'refs']\n",
      "current path is:  ./.git/objects\n",
      "current directory is:  ['3c', '3d', '67', '5a', '9d', 'b2', 'df', 'a2', 'ab', 'e5', 'eb', 'c7', 'fd', 'f2', 'f5', 'ca', 'fb', 'c6', 'ec', '27', '4b', 'pack', '7d', '16', '1f', '87', '80', '28', '21', '4d', '81', '9f', '6e', '5d', 'info', '62', '01', '64', 'd3', 'ba', 'a7', 'dd', 'a6', 'b9', 'e1', 'cd', 'e6', 'f0', 'f7', '46', '79', '1b', '48', '84', '4f', '8d', '71', '82', '49', '2e', '2b', '47', '8b', '13']\n",
      "current path is:  ./.git/objects/3c\n",
      "current directory is:  []\n",
      "current path is:  ./.git/objects/3d\n",
      "current directory is:  []\n",
      "current path is:  ./.git/objects/67\n",
      "current directory is:  []\n",
      "current path is:  ./.git/objects/5a\n",
      "current directory is:  []\n",
      "current path is:  ./.git/objects/9d\n",
      "current directory is:  []\n",
      "current path is:  ./.git/objects/b2\n",
      "current directory is:  []\n",
      "current path is:  ./.git/objects/df\n",
      "current directory is:  []\n",
      "current path is:  ./.git/objects/a2\n",
      "current directory is:  []\n",
      "current path is:  ./.git/objects/ab\n",
      "current directory is:  []\n",
      "current path is:  ./.git/objects/e5\n",
      "current directory is:  []\n",
      "current path is:  ./.git/objects/eb\n",
      "current directory is:  []\n",
      "current path is:  ./.git/objects/c7\n",
      "current directory is:  []\n",
      "current path is:  ./.git/objects/fd\n",
      "current directory is:  []\n",
      "current path is:  ./.git/objects/f2\n",
      "current directory is:  []\n",
      "current path is:  ./.git/objects/f5\n",
      "current directory is:  []\n",
      "current path is:  ./.git/objects/ca\n",
      "current directory is:  []\n",
      "current path is:  ./.git/objects/fb\n",
      "current directory is:  []\n",
      "current path is:  ./.git/objects/c6\n",
      "current directory is:  []\n",
      "current path is:  ./.git/objects/ec\n",
      "current directory is:  []\n",
      "current path is:  ./.git/objects/27\n",
      "current directory is:  []\n",
      "current path is:  ./.git/objects/4b\n",
      "current directory is:  []\n",
      "current path is:  ./.git/objects/pack\n",
      "current directory is:  []\n",
      "current path is:  ./.git/objects/7d\n",
      "current directory is:  []\n",
      "current path is:  ./.git/objects/16\n",
      "current directory is:  []\n",
      "current path is:  ./.git/objects/1f\n",
      "current directory is:  []\n",
      "current path is:  ./.git/objects/87\n",
      "current directory is:  []\n",
      "current path is:  ./.git/objects/80\n",
      "current directory is:  []\n",
      "current path is:  ./.git/objects/28\n",
      "current directory is:  []\n",
      "current path is:  ./.git/objects/21\n",
      "current directory is:  []\n",
      "current path is:  ./.git/objects/4d\n",
      "current directory is:  []\n",
      "current path is:  ./.git/objects/81\n",
      "current directory is:  []\n",
      "current path is:  ./.git/objects/9f\n",
      "current directory is:  []\n",
      "current path is:  ./.git/objects/6e\n",
      "current directory is:  []\n",
      "current path is:  ./.git/objects/5d\n",
      "current directory is:  []\n",
      "current path is:  ./.git/objects/info\n",
      "current directory is:  []\n",
      "current path is:  ./.git/objects/62\n",
      "current directory is:  []\n",
      "current path is:  ./.git/objects/01\n",
      "current directory is:  []\n",
      "current path is:  ./.git/objects/64\n",
      "current directory is:  []\n",
      "current path is:  ./.git/objects/d3\n",
      "current directory is:  []\n",
      "current path is:  ./.git/objects/ba\n",
      "current directory is:  []\n",
      "current path is:  ./.git/objects/a7\n",
      "current directory is:  []\n",
      "current path is:  ./.git/objects/dd\n",
      "current directory is:  []\n",
      "current path is:  ./.git/objects/a6\n",
      "current directory is:  []\n",
      "current path is:  ./.git/objects/b9\n",
      "current directory is:  []\n",
      "current path is:  ./.git/objects/e1\n",
      "current directory is:  []\n",
      "current path is:  ./.git/objects/cd\n",
      "current directory is:  []\n",
      "current path is:  ./.git/objects/e6\n",
      "current directory is:  []\n",
      "current path is:  ./.git/objects/f0\n",
      "current directory is:  []\n",
      "current path is:  ./.git/objects/f7\n",
      "current directory is:  []\n",
      "current path is:  ./.git/objects/46\n",
      "current directory is:  []\n",
      "current path is:  ./.git/objects/79\n",
      "current directory is:  []\n",
      "current path is:  ./.git/objects/1b\n",
      "current directory is:  []\n",
      "current path is:  ./.git/objects/48\n",
      "current directory is:  []\n",
      "current path is:  ./.git/objects/84\n",
      "current directory is:  []\n",
      "current path is:  ./.git/objects/4f\n",
      "current directory is:  []\n",
      "current path is:  ./.git/objects/8d\n",
      "current directory is:  []\n",
      "current path is:  ./.git/objects/71\n",
      "current directory is:  []\n",
      "current path is:  ./.git/objects/82\n",
      "current directory is:  []\n",
      "current path is:  ./.git/objects/49\n",
      "current directory is:  []\n",
      "current path is:  ./.git/objects/2e\n",
      "current directory is:  []\n",
      "current path is:  ./.git/objects/2b\n",
      "current directory is:  []\n",
      "current path is:  ./.git/objects/47\n",
      "current directory is:  []\n",
      "current path is:  ./.git/objects/8b\n",
      "current directory is:  []\n",
      "current path is:  ./.git/objects/13\n",
      "current directory is:  []\n",
      "current path is:  ./.git/info\n",
      "current directory is:  []\n",
      "current path is:  ./.git/logs\n",
      "current directory is:  ['refs']\n",
      "current path is:  ./.git/logs/refs\n",
      "current directory is:  ['heads', 'remotes']\n",
      "current path is:  ./.git/logs/refs/heads\n",
      "current directory is:  []\n",
      "current path is:  ./.git/logs/refs/remotes\n",
      "current directory is:  ['origin']\n",
      "current path is:  ./.git/logs/refs/remotes/origin\n",
      "current directory is:  []\n",
      "current path is:  ./.git/hooks\n",
      "current directory is:  []\n",
      "current path is:  ./.git/refs\n",
      "current directory is:  ['heads', 'tags', 'remotes']\n",
      "current path is:  ./.git/refs/heads\n",
      "current directory is:  []\n",
      "current path is:  ./.git/refs/tags\n",
      "current directory is:  []\n",
      "current path is:  ./.git/refs/remotes\n",
      "current directory is:  ['origin']\n",
      "current path is:  ./.git/refs/remotes/origin\n",
      "current directory is:  []\n",
      "current path is:  ./alchemyapi_python\n",
      "current directory is:  []\n",
      "current path is:  ./.idea\n",
      "current directory is:  ['libraries', 'dictionaries']\n",
      "current path is:  ./.idea/libraries\n",
      "current directory is:  []\n",
      "current path is:  ./.idea/dictionaries\n",
      "current directory is:  []\n"
     ]
    }
   ],
   "source": [
    "# using the os.walk() generator\n",
    "for dirpath, dirname, filenames in os.walk('.'):\n",
    "    print('current path is: ', dirpath)\n",
    "    print('current directory is: ', dirname)"
   ]
  },
  {
   "cell_type": "code",
   "execution_count": 39,
   "metadata": {},
   "outputs": [
    {
     "data": {
      "text/plain": [
       "'/Users/mona'"
      ]
     },
     "execution_count": 39,
     "metadata": {},
     "output_type": "execute_result"
    }
   ],
   "source": [
    "# accessing the environment variable\n",
    "os.environ.get('HOME')"
   ]
  },
  {
   "cell_type": "code",
   "execution_count": 41,
   "metadata": {},
   "outputs": [
    {
     "data": {
      "text/plain": [
       "'/Users/mona/anaconda3/bin:/Users/mona/anaconda3/bin:/Users/mona/anaconda3/condabin:/usr/local/bin:/usr/bin:/bin:/usr/sbin:/sbin:/Library/TeX/texbin:/usr/local/MacGPG2/bin:/usr/local/share/dotnet:/opt/X11/bin:~/.dotnet/tools:/Library/Frameworks/Mono.framework/Versions/Current/Commands'"
      ]
     },
     "execution_count": 41,
     "metadata": {},
     "output_type": "execute_result"
    }
   ],
   "source": [
    "os.environ.get('PATH')"
   ]
  },
  {
   "cell_type": "code",
   "execution_count": 43,
   "metadata": {},
   "outputs": [
    {
     "data": {
      "text/plain": [
       "'/Users/mona/monamona.txt'"
      ]
     },
     "execution_count": 43,
     "metadata": {},
     "output_type": "execute_result"
    }
   ],
   "source": [
    "file_path = os.path.join(os.environ.get('HOME'), 'monamona.txt')\n",
    "file_path"
   ]
  },
  {
   "cell_type": "code",
   "execution_count": 44,
   "metadata": {},
   "outputs": [
    {
     "data": {
      "text/plain": [
       "'hi.txt'"
      ]
     },
     "execution_count": 44,
     "metadata": {},
     "output_type": "execute_result"
    }
   ],
   "source": [
    "os.path.basename('/tmp/mona/hi.txt')"
   ]
  },
  {
   "cell_type": "code",
   "execution_count": 49,
   "metadata": {},
   "outputs": [
    {
     "data": {
      "text/plain": [
       "'posix'"
      ]
     },
     "execution_count": 49,
     "metadata": {},
     "output_type": "execute_result"
    }
   ],
   "source": [
    "os.name"
   ]
  },
  {
   "cell_type": "code",
   "execution_count": 52,
   "metadata": {},
   "outputs": [
    {
     "data": {
      "text/plain": [
       "256"
      ]
     },
     "execution_count": 52,
     "metadata": {},
     "output_type": "execute_result"
    }
   ],
   "source": [
    "os.system(\"bash -c \\\"read -n 1\\\"\")"
   ]
  },
  {
   "cell_type": "code",
   "execution_count": 54,
   "metadata": {},
   "outputs": [
    {
     "data": {
      "text/plain": [
       "['AlphabetSoup.py\\n',\n",
       " 'Anne.txt\\n',\n",
       " 'ArithGeo.py\\n',\n",
       " 'CSV_calculation.py\\n',\n",
       " 'Copy_of_Hello,_Colaboratory.ipynb\\n',\n",
       " 'Google_trends.ipynb\\n',\n",
       " 'JadenCasingStrings.py\\n',\n",
       " 'LLNode.py\\n',\n",
       " 'LetterCapitalize.py\\n',\n",
       " 'LetterChanges.py\\n']"
      ]
     },
     "execution_count": 54,
     "metadata": {},
     "output_type": "execute_result"
    }
   ],
   "source": [
    "dir = os.popen(\"ls\").readlines()\n",
    "dir[:10]"
   ]
  },
  {
   "cell_type": "code",
   "execution_count": 61,
   "metadata": {},
   "outputs": [
    {
     "name": "stdout",
     "output_type": "stream",
     "text": [
      "None\n",
      "None\n"
     ]
    }
   ],
   "source": [
    "import subprocess\n",
    "x = subprocess.Popen(['touch', 'text.file'])\n",
    "x\n",
    "print(x.poll())\n",
    "print(x.returncode)"
   ]
  },
  {
   "cell_type": "code",
   "execution_count": 62,
   "metadata": {},
   "outputs": [
    {
     "data": {
      "text/plain": [
       "('/Users/mona/anaconda3/bin:/Users/mona/anaconda3', 'bin')"
      ]
     },
     "execution_count": 62,
     "metadata": {},
     "output_type": "execute_result"
    }
   ],
   "source": [
    "os.path.split('/Users/mona/anaconda3/bin:/Users/mona/anaconda3/bin')"
   ]
  },
  {
   "cell_type": "code",
   "execution_count": 63,
   "metadata": {},
   "outputs": [
    {
     "data": {
      "text/plain": [
       "'/home/user/mona'"
      ]
     },
     "execution_count": 63,
     "metadata": {},
     "output_type": "execute_result"
    }
   ],
   "source": [
    "os.path.join(os.sep, 'home', 'user', 'mona')"
   ]
  },
  {
   "cell_type": "code",
   "execution_count": 64,
   "metadata": {},
   "outputs": [],
   "source": [
    "os.makedirs(\"test1/test2/test3\")"
   ]
  },
  {
   "cell_type": "code",
   "execution_count": 65,
   "metadata": {},
   "outputs": [
    {
     "data": {
      "text/plain": [
       "<function posix.uname()>"
      ]
     },
     "execution_count": 65,
     "metadata": {},
     "output_type": "execute_result"
    }
   ],
   "source": [
    "os.uname"
   ]
  },
  {
   "cell_type": "code",
   "execution_count": 66,
   "metadata": {},
   "outputs": [
    {
     "data": {
      "text/plain": [
       "'/'"
      ]
     },
     "execution_count": 66,
     "metadata": {},
     "output_type": "execute_result"
    }
   ],
   "source": [
    "os.path.sep"
   ]
  },
  {
   "cell_type": "code",
   "execution_count": 67,
   "metadata": {},
   "outputs": [
    {
     "data": {
      "text/plain": [
       "'.'"
      ]
     },
     "execution_count": 67,
     "metadata": {},
     "output_type": "execute_result"
    }
   ],
   "source": [
    "os.path.curdir"
   ]
  },
  {
   "cell_type": "code",
   "execution_count": 68,
   "metadata": {},
   "outputs": [
    {
     "data": {
      "text/plain": [
       "True"
      ]
     },
     "execution_count": 68,
     "metadata": {},
     "output_type": "execute_result"
    }
   ],
   "source": [
    "os.path.isdir(\"test1/test2/test3\")"
   ]
  },
  {
   "cell_type": "code",
   "execution_count": 69,
   "metadata": {},
   "outputs": [
    {
     "data": {
      "text/plain": [
       "False"
      ]
     },
     "execution_count": 69,
     "metadata": {},
     "output_type": "execute_result"
    }
   ],
   "source": [
    "os.path.exists(\"test1/test2/test4\")"
   ]
  },
  {
   "cell_type": "code",
   "execution_count": 70,
   "metadata": {},
   "outputs": [
    {
     "data": {
      "text/plain": [
       "'/Users/mona/Python_Playground/text.file'"
      ]
     },
     "execution_count": 70,
     "metadata": {},
     "output_type": "execute_result"
    }
   ],
   "source": [
    "os.path.abspath('text.file')"
   ]
  },
  {
   "cell_type": "code",
   "execution_count": 71,
   "metadata": {},
   "outputs": [
    {
     "data": {
      "text/plain": [
       "KeysView(environ({'TERM_PROGRAM': 'Apple_Terminal', 'GEM_HOME': '/Users/mona/.gem', 'TERM': 'xterm-color', 'SHELL': '/bin/bash', 'CLICOLOR': '1', 'TMPDIR': '/var/folders/hs/pxj_269s05756pd408qcsptm0000gn/T/', 'CONDA_SHLVL': '1', 'CONDA_PROMPT_MODIFIER': '(base) ', 'TERM_PROGRAM_VERSION': '433', 'TERM_SESSION_ID': '2E1115B2-3079-4BB8-AE24-0B1E696DDB9E', 'USER': 'mona', 'CONDA_EXE': '/Users/mona/anaconda3/bin/conda', 'SSH_AUTH_SOCK': '/private/tmp/com.apple.launchd.Fe8IThbSSC/Listeners', 'LSCOLORS': 'ExFxBxDxCxegedabagacad', 'PATH': '/Users/mona/anaconda3/bin:/Users/mona/anaconda3/bin:/Users/mona/anaconda3/condabin:/usr/local/bin:/usr/bin:/bin:/usr/sbin:/sbin:/Library/TeX/texbin:/usr/local/MacGPG2/bin:/usr/local/share/dotnet:/opt/X11/bin:~/.dotnet/tools:/Library/Frameworks/Mono.framework/Versions/Current/Commands', 'LaunchInstanceID': '28FA1DA8-AE40-4889-A0AD-21DF1CBE735D', 'CONDA_PREFIX': '/Users/mona/anaconda3', 'PWD': '/Users/mona/Python_Playground', 'LANG': 'en_US.UTF-8', 'XPC_FLAGS': '0x0', 'PS1': '(base) \\\\[\\\\033[36m\\\\]\\\\u\\\\[\\\\033[m\\\\]@\\\\[\\\\033[32m\\\\]\\\\h:\\\\[\\\\033[33;1m\\\\]\\\\w\\\\[\\\\033[m\\\\]$ ', 'XPC_SERVICE_NAME': '0', 'HOME': '/Users/mona', 'SHLVL': '1', 'CONDA_PYTHON_EXE': '/Users/mona/anaconda3/bin/python', 'LOGNAME': 'mona', 'CONDA_DEFAULT_ENV': 'base', 'DISPLAY': '/private/tmp/com.apple.launchd.UZx4XvpyxO/org.macosforge.xquartz:0', 'SECURITYSESSIONID': '186a6', '_': '/Users/mona/anaconda3/bin/jupyter', 'OLDPWD': '/Users/mona', 'JPY_PARENT_PID': '2811', 'PAGER': 'cat', 'GIT_PAGER': 'cat', 'MPLBACKEND': 'module://ipykernel.pylab.backend_inline'}))"
      ]
     },
     "execution_count": 71,
     "metadata": {},
     "output_type": "execute_result"
    }
   ],
   "source": [
    "os.environ.keys()"
   ]
  },
  {
   "cell_type": "code",
   "execution_count": 72,
   "metadata": {},
   "outputs": [
    {
     "data": {
      "text/plain": [
       "501"
      ]
     },
     "execution_count": 72,
     "metadata": {},
     "output_type": "execute_result"
    }
   ],
   "source": [
    "os.getuid()"
   ]
  },
  {
   "cell_type": "code",
   "execution_count": 75,
   "metadata": {},
   "outputs": [],
   "source": [
    "import shutil\n",
    "cols, lines = shutil.get_terminal_size()"
   ]
  },
  {
   "cell_type": "code",
   "execution_count": 76,
   "metadata": {},
   "outputs": [
    {
     "data": {
      "text/plain": [
       "124"
      ]
     },
     "execution_count": 76,
     "metadata": {},
     "output_type": "execute_result"
    }
   ],
   "source": [
    "cols"
   ]
  },
  {
   "cell_type": "code",
   "execution_count": 77,
   "metadata": {},
   "outputs": [
    {
     "data": {
      "text/plain": [
       "30"
      ]
     },
     "execution_count": 77,
     "metadata": {},
     "output_type": "execute_result"
    }
   ],
   "source": [
    "lines"
   ]
  },
  {
   "cell_type": "code",
   "execution_count": 81,
   "metadata": {},
   "outputs": [
    {
     "data": {
      "text/plain": [
       "6097"
      ]
     },
     "execution_count": 81,
     "metadata": {},
     "output_type": "execute_result"
    }
   ],
   "source": [
    "os.getpid()"
   ]
  },
  {
   "cell_type": "code",
   "execution_count": 82,
   "metadata": {},
   "outputs": [
    {
     "data": {
      "text/plain": [
       "2811"
      ]
     },
     "execution_count": 82,
     "metadata": {},
     "output_type": "execute_result"
    }
   ],
   "source": [
    "os.getppid()"
   ]
  },
  {
   "cell_type": "code",
   "execution_count": 86,
   "metadata": {},
   "outputs": [
    {
     "data": {
      "text/plain": [
       "0"
      ]
     },
     "execution_count": 86,
     "metadata": {},
     "output_type": "execute_result"
    }
   ],
   "source": [
    "# not sure why is it not working\n",
    "subprocess.call(['ls'])"
   ]
  },
  {
   "cell_type": "code",
   "execution_count": 92,
   "metadata": {},
   "outputs": [],
   "source": [
    "os.chdir(\"../files\")"
   ]
  },
  {
   "cell_type": "code",
   "execution_count": 101,
   "metadata": {},
   "outputs": [
    {
     "name": "stdout",
     "output_type": "stream",
     "text": [
      "test-1.txt\n",
      "1\n",
      "01-test.txt\n",
      "test-3.txt\n",
      "3\n",
      "03-test.txt\n",
      "test-2.txt\n",
      "2\n",
      "02-test.txt\n",
      "test-5.txt\n",
      "5\n",
      "05-test.txt\n",
      "test-4.txt\n",
      "4\n",
      "04-test.txt\n"
     ]
    }
   ],
   "source": [
    "for f in os.listdir():\n",
    "    print(f)\n",
    "    f_name, f_ext = os.path.splitext(f)\n",
    "    f_title, f_num = f_name.split('-')\n",
    "    f_title = f_title.strip() \n",
    "    f_num = f_num.strip()\n",
    "    print(f_num)\n",
    "    print('{}-{}{}'.format(f_num.zfill(2), f_title, f_ext))\n",
    "    # use zfill for zeropadding the filename\n",
    "    new_f_name = '{}-{}{}'.format(f_num.zfill(2), f_title, f_ext)\n",
    "    os.rename(f, new_f_name)"
   ]
  },
  {
   "cell_type": "code",
   "execution_count": 102,
   "metadata": {},
   "outputs": [
    {
     "name": "stdout",
     "output_type": "stream",
     "text": [
      "03-test.txt\n",
      "02-test.txt\n",
      "04-test.txt\n",
      "05-test.txt\n",
      "01-test.txt\n"
     ]
    }
   ],
   "source": [
    "for f in os.listdir():\n",
    "    print(f)"
   ]
  }
 ],
 "metadata": {
  "kernelspec": {
   "display_name": "Python 3",
   "language": "python",
   "name": "python3"
  },
  "language_info": {
   "codemirror_mode": {
    "name": "ipython",
    "version": 3
   },
   "file_extension": ".py",
   "mimetype": "text/x-python",
   "name": "python",
   "nbconvert_exporter": "python",
   "pygments_lexer": "ipython3",
   "version": "3.6.5"
  }
 },
 "nbformat": 4,
 "nbformat_minor": 2
}
